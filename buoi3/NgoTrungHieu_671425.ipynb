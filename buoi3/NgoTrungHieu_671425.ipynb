{
 "cells": [
  {
   "cell_type": "code",
   "execution_count": 216,
   "id": "e04a1ac2",
   "metadata": {},
   "outputs": [
    {
     "data": {
      "text/html": [
       "<div>\n",
       "<style scoped>\n",
       "    .dataframe tbody tr th:only-of-type {\n",
       "        vertical-align: middle;\n",
       "    }\n",
       "\n",
       "    .dataframe tbody tr th {\n",
       "        vertical-align: top;\n",
       "    }\n",
       "\n",
       "    .dataframe thead th {\n",
       "        text-align: right;\n",
       "    }\n",
       "</style>\n",
       "<table border=\"1\" class=\"dataframe\">\n",
       "  <thead>\n",
       "    <tr style=\"text-align: right;\">\n",
       "      <th></th>\n",
       "      <th>Suit of card #1</th>\n",
       "      <th>Rank of card #1</th>\n",
       "      <th>Suit of card #2</th>\n",
       "      <th>Rank of card #2</th>\n",
       "      <th>Suit of card #3</th>\n",
       "      <th>Rank of card #3</th>\n",
       "      <th>Suit of card #4</th>\n",
       "      <th>Rank of card #4</th>\n",
       "      <th>Suit of card #5</th>\n",
       "      <th>Rank of card #5</th>\n",
       "      <th>Poker Hand</th>\n",
       "    </tr>\n",
       "  </thead>\n",
       "  <tbody>\n",
       "    <tr>\n",
       "      <th>0</th>\n",
       "      <td>1</td>\n",
       "      <td>10</td>\n",
       "      <td>1</td>\n",
       "      <td>11</td>\n",
       "      <td>1</td>\n",
       "      <td>13</td>\n",
       "      <td>1</td>\n",
       "      <td>12</td>\n",
       "      <td>1</td>\n",
       "      <td>1</td>\n",
       "      <td>9</td>\n",
       "    </tr>\n",
       "    <tr>\n",
       "      <th>1</th>\n",
       "      <td>2</td>\n",
       "      <td>11</td>\n",
       "      <td>2</td>\n",
       "      <td>13</td>\n",
       "      <td>2</td>\n",
       "      <td>10</td>\n",
       "      <td>2</td>\n",
       "      <td>12</td>\n",
       "      <td>2</td>\n",
       "      <td>1</td>\n",
       "      <td>9</td>\n",
       "    </tr>\n",
       "    <tr>\n",
       "      <th>2</th>\n",
       "      <td>3</td>\n",
       "      <td>12</td>\n",
       "      <td>3</td>\n",
       "      <td>11</td>\n",
       "      <td>3</td>\n",
       "      <td>13</td>\n",
       "      <td>3</td>\n",
       "      <td>10</td>\n",
       "      <td>3</td>\n",
       "      <td>1</td>\n",
       "      <td>9</td>\n",
       "    </tr>\n",
       "    <tr>\n",
       "      <th>3</th>\n",
       "      <td>4</td>\n",
       "      <td>10</td>\n",
       "      <td>4</td>\n",
       "      <td>11</td>\n",
       "      <td>4</td>\n",
       "      <td>1</td>\n",
       "      <td>4</td>\n",
       "      <td>13</td>\n",
       "      <td>4</td>\n",
       "      <td>12</td>\n",
       "      <td>9</td>\n",
       "    </tr>\n",
       "    <tr>\n",
       "      <th>4</th>\n",
       "      <td>4</td>\n",
       "      <td>1</td>\n",
       "      <td>4</td>\n",
       "      <td>13</td>\n",
       "      <td>4</td>\n",
       "      <td>12</td>\n",
       "      <td>4</td>\n",
       "      <td>11</td>\n",
       "      <td>4</td>\n",
       "      <td>10</td>\n",
       "      <td>9</td>\n",
       "    </tr>\n",
       "    <tr>\n",
       "      <th>...</th>\n",
       "      <td>...</td>\n",
       "      <td>...</td>\n",
       "      <td>...</td>\n",
       "      <td>...</td>\n",
       "      <td>...</td>\n",
       "      <td>...</td>\n",
       "      <td>...</td>\n",
       "      <td>...</td>\n",
       "      <td>...</td>\n",
       "      <td>...</td>\n",
       "      <td>...</td>\n",
       "    </tr>\n",
       "    <tr>\n",
       "      <th>25005</th>\n",
       "      <td>3</td>\n",
       "      <td>9</td>\n",
       "      <td>2</td>\n",
       "      <td>6</td>\n",
       "      <td>4</td>\n",
       "      <td>11</td>\n",
       "      <td>4</td>\n",
       "      <td>12</td>\n",
       "      <td>2</td>\n",
       "      <td>4</td>\n",
       "      <td>0</td>\n",
       "    </tr>\n",
       "    <tr>\n",
       "      <th>25006</th>\n",
       "      <td>4</td>\n",
       "      <td>1</td>\n",
       "      <td>4</td>\n",
       "      <td>10</td>\n",
       "      <td>3</td>\n",
       "      <td>13</td>\n",
       "      <td>3</td>\n",
       "      <td>4</td>\n",
       "      <td>1</td>\n",
       "      <td>10</td>\n",
       "      <td>1</td>\n",
       "    </tr>\n",
       "    <tr>\n",
       "      <th>25007</th>\n",
       "      <td>2</td>\n",
       "      <td>1</td>\n",
       "      <td>2</td>\n",
       "      <td>10</td>\n",
       "      <td>4</td>\n",
       "      <td>4</td>\n",
       "      <td>4</td>\n",
       "      <td>1</td>\n",
       "      <td>4</td>\n",
       "      <td>13</td>\n",
       "      <td>1</td>\n",
       "    </tr>\n",
       "    <tr>\n",
       "      <th>25008</th>\n",
       "      <td>2</td>\n",
       "      <td>12</td>\n",
       "      <td>4</td>\n",
       "      <td>3</td>\n",
       "      <td>1</td>\n",
       "      <td>10</td>\n",
       "      <td>1</td>\n",
       "      <td>12</td>\n",
       "      <td>4</td>\n",
       "      <td>9</td>\n",
       "      <td>1</td>\n",
       "    </tr>\n",
       "    <tr>\n",
       "      <th>25009</th>\n",
       "      <td>1</td>\n",
       "      <td>7</td>\n",
       "      <td>3</td>\n",
       "      <td>11</td>\n",
       "      <td>3</td>\n",
       "      <td>3</td>\n",
       "      <td>4</td>\n",
       "      <td>8</td>\n",
       "      <td>3</td>\n",
       "      <td>7</td>\n",
       "      <td>1</td>\n",
       "    </tr>\n",
       "  </tbody>\n",
       "</table>\n",
       "<p>25010 rows × 11 columns</p>\n",
       "</div>"
      ],
      "text/plain": [
       "       Suit of card #1  Rank of card #1  Suit of card #2  Rank of card #2  \\\n",
       "0                    1               10                1               11   \n",
       "1                    2               11                2               13   \n",
       "2                    3               12                3               11   \n",
       "3                    4               10                4               11   \n",
       "4                    4                1                4               13   \n",
       "...                ...              ...              ...              ...   \n",
       "25005                3                9                2                6   \n",
       "25006                4                1                4               10   \n",
       "25007                2                1                2               10   \n",
       "25008                2               12                4                3   \n",
       "25009                1                7                3               11   \n",
       "\n",
       "       Suit of card #3  Rank of card #3  Suit of card #4  Rank of card #4  \\\n",
       "0                    1               13                1               12   \n",
       "1                    2               10                2               12   \n",
       "2                    3               13                3               10   \n",
       "3                    4                1                4               13   \n",
       "4                    4               12                4               11   \n",
       "...                ...              ...              ...              ...   \n",
       "25005                4               11                4               12   \n",
       "25006                3               13                3                4   \n",
       "25007                4                4                4                1   \n",
       "25008                1               10                1               12   \n",
       "25009                3                3                4                8   \n",
       "\n",
       "       Suit of card #5  Rank of card #5  Poker Hand  \n",
       "0                    1                1           9  \n",
       "1                    2                1           9  \n",
       "2                    3                1           9  \n",
       "3                    4               12           9  \n",
       "4                    4               10           9  \n",
       "...                ...              ...         ...  \n",
       "25005                2                4           0  \n",
       "25006                1               10           1  \n",
       "25007                4               13           1  \n",
       "25008                4                9           1  \n",
       "25009                3                7           1  \n",
       "\n",
       "[25010 rows x 11 columns]"
      ]
     },
     "execution_count": 216,
     "metadata": {},
     "output_type": "execute_result"
    }
   ],
   "source": [
    "import pandas as pd\n",
    "df=pd.read_csv(\"poker-hand-training-true.data\", names=[\"Suit of card #1\", \"Rank of card #1\", \"Suit of card #2\", \"Rank of card #2\", \"Suit of card #3\", \"Rank of card #3\", \"Suit of card #4\", \"Rank of card #4\", \"Suit of card #5\", \"Rank of card #5\", \"Poker Hand\"])\n",
    "df"
   ]
  },
  {
   "cell_type": "code",
   "execution_count": 217,
   "id": "6d774984",
   "metadata": {},
   "outputs": [
    {
     "name": "stdout",
     "output_type": "stream",
     "text": [
      "<class 'pandas.core.frame.DataFrame'>\n",
      "RangeIndex: 25010 entries, 0 to 25009\n",
      "Data columns (total 11 columns):\n",
      " #   Column           Non-Null Count  Dtype\n",
      "---  ------           --------------  -----\n",
      " 0   Suit of card #1  25010 non-null  int64\n",
      " 1   Rank of card #1  25010 non-null  int64\n",
      " 2   Suit of card #2  25010 non-null  int64\n",
      " 3   Rank of card #2  25010 non-null  int64\n",
      " 4   Suit of card #3  25010 non-null  int64\n",
      " 5   Rank of card #3  25010 non-null  int64\n",
      " 6   Suit of card #4  25010 non-null  int64\n",
      " 7   Rank of card #4  25010 non-null  int64\n",
      " 8   Suit of card #5  25010 non-null  int64\n",
      " 9   Rank of card #5  25010 non-null  int64\n",
      " 10  Poker Hand       25010 non-null  int64\n",
      "dtypes: int64(11)\n",
      "memory usage: 2.1 MB\n"
     ]
    }
   ],
   "source": [
    "df.info()"
   ]
  },
  {
   "cell_type": "code",
   "execution_count": 218,
   "id": "20d8b74a",
   "metadata": {},
   "outputs": [
    {
     "data": {
      "text/plain": [
       "0    12493\n",
       "1    10599\n",
       "2     1206\n",
       "3      513\n",
       "4       93\n",
       "5       54\n",
       "6       36\n",
       "7        6\n",
       "9        5\n",
       "8        5\n",
       "Name: Poker Hand, dtype: int64"
      ]
     },
     "execution_count": 218,
     "metadata": {},
     "output_type": "execute_result"
    }
   ],
   "source": [
    "df[\"Poker Hand\"].value_counts(dropna=False)"
   ]
  },
  {
   "cell_type": "code",
   "execution_count": 219,
   "id": "0f56e8b1",
   "metadata": {},
   "outputs": [
    {
     "data": {
      "text/html": [
       "<div>\n",
       "<style scoped>\n",
       "    .dataframe tbody tr th:only-of-type {\n",
       "        vertical-align: middle;\n",
       "    }\n",
       "\n",
       "    .dataframe tbody tr th {\n",
       "        vertical-align: top;\n",
       "    }\n",
       "\n",
       "    .dataframe thead th {\n",
       "        text-align: right;\n",
       "    }\n",
       "</style>\n",
       "<table border=\"1\" class=\"dataframe\">\n",
       "  <thead>\n",
       "    <tr style=\"text-align: right;\">\n",
       "      <th></th>\n",
       "      <th>Suit of card #1</th>\n",
       "      <th>Rank of card #1</th>\n",
       "      <th>Suit of card #2</th>\n",
       "      <th>Rank of card #2</th>\n",
       "      <th>Suit of card #3</th>\n",
       "      <th>Rank of card #3</th>\n",
       "      <th>Suit of card #4</th>\n",
       "      <th>Rank of card #4</th>\n",
       "      <th>Suit of card #5</th>\n",
       "      <th>Rank of card #5</th>\n",
       "    </tr>\n",
       "  </thead>\n",
       "  <tbody>\n",
       "    <tr>\n",
       "      <th>0</th>\n",
       "      <td>1</td>\n",
       "      <td>10</td>\n",
       "      <td>1</td>\n",
       "      <td>11</td>\n",
       "      <td>1</td>\n",
       "      <td>13</td>\n",
       "      <td>1</td>\n",
       "      <td>12</td>\n",
       "      <td>1</td>\n",
       "      <td>1</td>\n",
       "    </tr>\n",
       "    <tr>\n",
       "      <th>1</th>\n",
       "      <td>2</td>\n",
       "      <td>11</td>\n",
       "      <td>2</td>\n",
       "      <td>13</td>\n",
       "      <td>2</td>\n",
       "      <td>10</td>\n",
       "      <td>2</td>\n",
       "      <td>12</td>\n",
       "      <td>2</td>\n",
       "      <td>1</td>\n",
       "    </tr>\n",
       "    <tr>\n",
       "      <th>2</th>\n",
       "      <td>3</td>\n",
       "      <td>12</td>\n",
       "      <td>3</td>\n",
       "      <td>11</td>\n",
       "      <td>3</td>\n",
       "      <td>13</td>\n",
       "      <td>3</td>\n",
       "      <td>10</td>\n",
       "      <td>3</td>\n",
       "      <td>1</td>\n",
       "    </tr>\n",
       "    <tr>\n",
       "      <th>3</th>\n",
       "      <td>4</td>\n",
       "      <td>10</td>\n",
       "      <td>4</td>\n",
       "      <td>11</td>\n",
       "      <td>4</td>\n",
       "      <td>1</td>\n",
       "      <td>4</td>\n",
       "      <td>13</td>\n",
       "      <td>4</td>\n",
       "      <td>12</td>\n",
       "    </tr>\n",
       "    <tr>\n",
       "      <th>4</th>\n",
       "      <td>4</td>\n",
       "      <td>1</td>\n",
       "      <td>4</td>\n",
       "      <td>13</td>\n",
       "      <td>4</td>\n",
       "      <td>12</td>\n",
       "      <td>4</td>\n",
       "      <td>11</td>\n",
       "      <td>4</td>\n",
       "      <td>10</td>\n",
       "    </tr>\n",
       "    <tr>\n",
       "      <th>...</th>\n",
       "      <td>...</td>\n",
       "      <td>...</td>\n",
       "      <td>...</td>\n",
       "      <td>...</td>\n",
       "      <td>...</td>\n",
       "      <td>...</td>\n",
       "      <td>...</td>\n",
       "      <td>...</td>\n",
       "      <td>...</td>\n",
       "      <td>...</td>\n",
       "    </tr>\n",
       "    <tr>\n",
       "      <th>25005</th>\n",
       "      <td>3</td>\n",
       "      <td>9</td>\n",
       "      <td>2</td>\n",
       "      <td>6</td>\n",
       "      <td>4</td>\n",
       "      <td>11</td>\n",
       "      <td>4</td>\n",
       "      <td>12</td>\n",
       "      <td>2</td>\n",
       "      <td>4</td>\n",
       "    </tr>\n",
       "    <tr>\n",
       "      <th>25006</th>\n",
       "      <td>4</td>\n",
       "      <td>1</td>\n",
       "      <td>4</td>\n",
       "      <td>10</td>\n",
       "      <td>3</td>\n",
       "      <td>13</td>\n",
       "      <td>3</td>\n",
       "      <td>4</td>\n",
       "      <td>1</td>\n",
       "      <td>10</td>\n",
       "    </tr>\n",
       "    <tr>\n",
       "      <th>25007</th>\n",
       "      <td>2</td>\n",
       "      <td>1</td>\n",
       "      <td>2</td>\n",
       "      <td>10</td>\n",
       "      <td>4</td>\n",
       "      <td>4</td>\n",
       "      <td>4</td>\n",
       "      <td>1</td>\n",
       "      <td>4</td>\n",
       "      <td>13</td>\n",
       "    </tr>\n",
       "    <tr>\n",
       "      <th>25008</th>\n",
       "      <td>2</td>\n",
       "      <td>12</td>\n",
       "      <td>4</td>\n",
       "      <td>3</td>\n",
       "      <td>1</td>\n",
       "      <td>10</td>\n",
       "      <td>1</td>\n",
       "      <td>12</td>\n",
       "      <td>4</td>\n",
       "      <td>9</td>\n",
       "    </tr>\n",
       "    <tr>\n",
       "      <th>25009</th>\n",
       "      <td>1</td>\n",
       "      <td>7</td>\n",
       "      <td>3</td>\n",
       "      <td>11</td>\n",
       "      <td>3</td>\n",
       "      <td>3</td>\n",
       "      <td>4</td>\n",
       "      <td>8</td>\n",
       "      <td>3</td>\n",
       "      <td>7</td>\n",
       "    </tr>\n",
       "  </tbody>\n",
       "</table>\n",
       "<p>25010 rows × 10 columns</p>\n",
       "</div>"
      ],
      "text/plain": [
       "       Suit of card #1  Rank of card #1  Suit of card #2  Rank of card #2  \\\n",
       "0                    1               10                1               11   \n",
       "1                    2               11                2               13   \n",
       "2                    3               12                3               11   \n",
       "3                    4               10                4               11   \n",
       "4                    4                1                4               13   \n",
       "...                ...              ...              ...              ...   \n",
       "25005                3                9                2                6   \n",
       "25006                4                1                4               10   \n",
       "25007                2                1                2               10   \n",
       "25008                2               12                4                3   \n",
       "25009                1                7                3               11   \n",
       "\n",
       "       Suit of card #3  Rank of card #3  Suit of card #4  Rank of card #4  \\\n",
       "0                    1               13                1               12   \n",
       "1                    2               10                2               12   \n",
       "2                    3               13                3               10   \n",
       "3                    4                1                4               13   \n",
       "4                    4               12                4               11   \n",
       "...                ...              ...              ...              ...   \n",
       "25005                4               11                4               12   \n",
       "25006                3               13                3                4   \n",
       "25007                4                4                4                1   \n",
       "25008                1               10                1               12   \n",
       "25009                3                3                4                8   \n",
       "\n",
       "       Suit of card #5  Rank of card #5  \n",
       "0                    1                1  \n",
       "1                    2                1  \n",
       "2                    3                1  \n",
       "3                    4               12  \n",
       "4                    4               10  \n",
       "...                ...              ...  \n",
       "25005                2                4  \n",
       "25006                1               10  \n",
       "25007                4               13  \n",
       "25008                4                9  \n",
       "25009                3                7  \n",
       "\n",
       "[25010 rows x 10 columns]"
      ]
     },
     "execution_count": 219,
     "metadata": {},
     "output_type": "execute_result"
    }
   ],
   "source": [
    "X=df.iloc[:, :-1]\n",
    "X"
   ]
  },
  {
   "cell_type": "code",
   "execution_count": 220,
   "id": "2daa6d37",
   "metadata": {},
   "outputs": [
    {
     "data": {
      "text/plain": [
       "0        9\n",
       "1        9\n",
       "2        9\n",
       "3        9\n",
       "4        9\n",
       "        ..\n",
       "25005    0\n",
       "25006    1\n",
       "25007    1\n",
       "25008    1\n",
       "25009    1\n",
       "Name: Poker Hand, Length: 25010, dtype: int64"
      ]
     },
     "execution_count": 220,
     "metadata": {},
     "output_type": "execute_result"
    }
   ],
   "source": [
    "Y=df.iloc[:,-1]\n",
    "Y"
   ]
  },
  {
   "cell_type": "code",
   "execution_count": 221,
   "id": "0a7cb80c",
   "metadata": {},
   "outputs": [],
   "source": [
    "from sklearn.model_selection import train_test_split\n",
    "X_train, X_test, Y_train, Y_test = train_test_split(X, Y, test_size=0.3, random_state=1)"
   ]
  },
  {
   "cell_type": "code",
   "execution_count": 222,
   "id": "09512e7a",
   "metadata": {},
   "outputs": [
    {
     "data": {
      "text/plain": [
       "((25010, 10), (25010,))"
      ]
     },
     "execution_count": 222,
     "metadata": {},
     "output_type": "execute_result"
    }
   ],
   "source": [
    "X.shape, Y.shape"
   ]
  },
  {
   "cell_type": "code",
   "execution_count": 223,
   "id": "6981b146",
   "metadata": {},
   "outputs": [
    {
     "data": {
      "text/plain": [
       "((17507, 10), (17507,), (7503, 10), (7503,))"
      ]
     },
     "execution_count": 223,
     "metadata": {},
     "output_type": "execute_result"
    }
   ],
   "source": [
    "X_train.shape, Y_train.shape, X_test.shape, Y_test.shape"
   ]
  },
  {
   "cell_type": "code",
   "execution_count": 224,
   "id": "6de080bb",
   "metadata": {},
   "outputs": [
    {
     "data": {
      "text/html": [
       "<style>#sk-container-id-13 {color: black;background-color: white;}#sk-container-id-13 pre{padding: 0;}#sk-container-id-13 div.sk-toggleable {background-color: white;}#sk-container-id-13 label.sk-toggleable__label {cursor: pointer;display: block;width: 100%;margin-bottom: 0;padding: 0.3em;box-sizing: border-box;text-align: center;}#sk-container-id-13 label.sk-toggleable__label-arrow:before {content: \"▸\";float: left;margin-right: 0.25em;color: #696969;}#sk-container-id-13 label.sk-toggleable__label-arrow:hover:before {color: black;}#sk-container-id-13 div.sk-estimator:hover label.sk-toggleable__label-arrow:before {color: black;}#sk-container-id-13 div.sk-toggleable__content {max-height: 0;max-width: 0;overflow: hidden;text-align: left;background-color: #f0f8ff;}#sk-container-id-13 div.sk-toggleable__content pre {margin: 0.2em;color: black;border-radius: 0.25em;background-color: #f0f8ff;}#sk-container-id-13 input.sk-toggleable__control:checked~div.sk-toggleable__content {max-height: 200px;max-width: 100%;overflow: auto;}#sk-container-id-13 input.sk-toggleable__control:checked~label.sk-toggleable__label-arrow:before {content: \"▾\";}#sk-container-id-13 div.sk-estimator input.sk-toggleable__control:checked~label.sk-toggleable__label {background-color: #d4ebff;}#sk-container-id-13 div.sk-label input.sk-toggleable__control:checked~label.sk-toggleable__label {background-color: #d4ebff;}#sk-container-id-13 input.sk-hidden--visually {border: 0;clip: rect(1px 1px 1px 1px);clip: rect(1px, 1px, 1px, 1px);height: 1px;margin: -1px;overflow: hidden;padding: 0;position: absolute;width: 1px;}#sk-container-id-13 div.sk-estimator {font-family: monospace;background-color: #f0f8ff;border: 1px dotted black;border-radius: 0.25em;box-sizing: border-box;margin-bottom: 0.5em;}#sk-container-id-13 div.sk-estimator:hover {background-color: #d4ebff;}#sk-container-id-13 div.sk-parallel-item::after {content: \"\";width: 100%;border-bottom: 1px solid gray;flex-grow: 1;}#sk-container-id-13 div.sk-label:hover label.sk-toggleable__label {background-color: #d4ebff;}#sk-container-id-13 div.sk-serial::before {content: \"\";position: absolute;border-left: 1px solid gray;box-sizing: border-box;top: 0;bottom: 0;left: 50%;z-index: 0;}#sk-container-id-13 div.sk-serial {display: flex;flex-direction: column;align-items: center;background-color: white;padding-right: 0.2em;padding-left: 0.2em;position: relative;}#sk-container-id-13 div.sk-item {position: relative;z-index: 1;}#sk-container-id-13 div.sk-parallel {display: flex;align-items: stretch;justify-content: center;background-color: white;position: relative;}#sk-container-id-13 div.sk-item::before, #sk-container-id-13 div.sk-parallel-item::before {content: \"\";position: absolute;border-left: 1px solid gray;box-sizing: border-box;top: 0;bottom: 0;left: 50%;z-index: -1;}#sk-container-id-13 div.sk-parallel-item {display: flex;flex-direction: column;z-index: 1;position: relative;background-color: white;}#sk-container-id-13 div.sk-parallel-item:first-child::after {align-self: flex-end;width: 50%;}#sk-container-id-13 div.sk-parallel-item:last-child::after {align-self: flex-start;width: 50%;}#sk-container-id-13 div.sk-parallel-item:only-child::after {width: 0;}#sk-container-id-13 div.sk-dashed-wrapped {border: 1px dashed gray;margin: 0 0.4em 0.5em 0.4em;box-sizing: border-box;padding-bottom: 0.4em;background-color: white;}#sk-container-id-13 div.sk-label label {font-family: monospace;font-weight: bold;display: inline-block;line-height: 1.2em;}#sk-container-id-13 div.sk-label-container {text-align: center;}#sk-container-id-13 div.sk-container {/* jupyter's `normalize.less` sets `[hidden] { display: none; }` but bootstrap.min.css set `[hidden] { display: none !important; }` so we also need the `!important` here to be able to override the default hidden behavior on the sphinx rendered scikit-learn.org. See: https://github.com/scikit-learn/scikit-learn/issues/21755 */display: inline-block !important;position: relative;}#sk-container-id-13 div.sk-text-repr-fallback {display: none;}</style><div id=\"sk-container-id-13\" class=\"sk-top-container\"><div class=\"sk-text-repr-fallback\"><pre>KNeighborsClassifier(n_neighbors=3)</pre><b>In a Jupyter environment, please rerun this cell to show the HTML representation or trust the notebook. <br />On GitHub, the HTML representation is unable to render, please try loading this page with nbviewer.org.</b></div><div class=\"sk-container\" hidden><div class=\"sk-item\"><div class=\"sk-estimator sk-toggleable\"><input class=\"sk-toggleable__control sk-hidden--visually\" id=\"sk-estimator-id-13\" type=\"checkbox\" checked><label for=\"sk-estimator-id-13\" class=\"sk-toggleable__label sk-toggleable__label-arrow\">KNeighborsClassifier</label><div class=\"sk-toggleable__content\"><pre>KNeighborsClassifier(n_neighbors=3)</pre></div></div></div></div></div>"
      ],
      "text/plain": [
       "KNeighborsClassifier(n_neighbors=3)"
      ]
     },
     "execution_count": 224,
     "metadata": {},
     "output_type": "execute_result"
    }
   ],
   "source": [
    "from sklearn.neighbors import KNeighborsClassifier\n",
    "km_class=KNeighborsClassifier(n_neighbors=3)\n",
    "km_class.fit(X_train, Y_train)"
   ]
  },
  {
   "cell_type": "code",
   "execution_count": 225,
   "id": "35d4b8c4",
   "metadata": {
    "scrolled": true
   },
   "outputs": [
    {
     "name": "stdout",
     "output_type": "stream",
     "text": [
      "       Y_predicted  Y_test\n",
      "4837             1       3\n",
      "17217            0       1\n",
      "3268             0       1\n",
      "15945            1       1\n",
      "23447            0       0\n",
      "17540            0       0\n",
      "17265            0       0\n",
      "4894             1       1\n",
      "24880            0       1\n",
      "1883             0       0\n"
     ]
    }
   ],
   "source": [
    "Y_predicted=km_class.predict(X_test)\n",
    "print(pd.DataFrame({\"Y_predicted\":Y_predicted,\"Y_test\":Y_test}).head(10))"
   ]
  },
  {
   "cell_type": "code",
   "execution_count": 226,
   "id": "831d54eb",
   "metadata": {},
   "outputs": [
    {
     "name": "stdout",
     "output_type": "stream",
     "text": [
      "Confusion Matrix: \n",
      "[[2537 1157   16    2    0    0    0    0    0    0]\n",
      " [1702 1447   38   13    1    0    0    0    0    0]\n",
      " [ 163  183   14    4    0    0    0    0    0    0]\n",
      " [  34  119    9    2    0    0    0    0    0    0]\n",
      " [   6   16    3    0    0    0    0    0    0    0]\n",
      " [  10    5    1    0    0    0    0    0    0    0]\n",
      " [   4    8    2    0    0    0    0    0    0    0]\n",
      " [   0    2    0    0    0    0    0    0    0    0]\n",
      " [   0    2    0    0    0    0    0    0    0    0]\n",
      " [   1    2    0    0    0    0    0    0    0    0]] \n",
      "\n"
     ]
    }
   ],
   "source": [
    "from sklearn.metrics import accuracy_score, confusion_matrix, precision_score, recall_score, f1_score, classification_report\n",
    "#đánh giá mô hình\n",
    "print(\"Confusion Matrix: \")\n",
    "print(confusion_matrix(Y_test, Y_predicted, labels=[0,1,2,3,4,5,6,7,8,9]),'\\n')"
   ]
  },
  {
   "cell_type": "code",
   "execution_count": 227,
   "id": "16dd19d1",
   "metadata": {},
   "outputs": [
    {
     "name": "stdout",
     "output_type": "stream",
     "text": [
      "Accuracy score: \n",
      "53.312008529921364\n"
     ]
    }
   ],
   "source": [
    "print(\"Accuracy score: \")\n",
    "print((accuracy_score(Y_test, Y_predicted)*100))"
   ]
  },
  {
   "cell_type": "code",
   "execution_count": 228,
   "id": "0ba3f527",
   "metadata": {},
   "outputs": [
    {
     "name": "stdout",
     "output_type": "stream",
     "text": [
      "Precision score: \n",
      "[56.92169621 49.20095206 16.86746988  9.52380952  0.          0.\n",
      "  0.          0.          0.          0.        ] \n",
      "\n"
     ]
    }
   ],
   "source": [
    "print(\"Precision score: \")\n",
    "print(precision_score(Y_test, Y_predicted, labels=[0,1,2,3,4,5,6,7,8,9], average=None, zero_division=0)*100,'\\n')\n",
    "#Precision của 0 = 57\n",
    "#Precision của 1 = 49\n",
    "#Precision của 2 = 17\n",
    "#Precision của 3 = 9.5\n",
    "#Precision của 4 = 0\n",
    "#Precision của 5 = 0\n",
    "#Precision của 6 = 0\n",
    "#Precision của 7 = 0\n",
    "#Precision của 8 = 0\n",
    "#Precision của 9 = 0"
   ]
  },
  {
   "cell_type": "code",
   "execution_count": 229,
   "id": "5f342ce3",
   "metadata": {
    "scrolled": true
   },
   "outputs": [
    {
     "name": "stdout",
     "output_type": "stream",
     "text": [
      "Recall score: \n",
      "[0.68345905 0.45204624 0.03846154 0.01219512 0.         0.\n",
      " 0.         0.         0.         0.        ] \n",
      "\n"
     ]
    }
   ],
   "source": [
    "print(\"Recall score: \")\n",
    "print(recall_score(Y_test, Y_predicted, labels=[0,1,2,3,4,5,6,7,8,9], average=None),'\\n')\n",
    "#Recall của 0 = 0.68\n",
    "#Recall của 1 = 0.45\n",
    "#Recall của 2 = 0.04\n",
    "#Recall của 3 = 0.01\n",
    "#Recall của 4 = 0\n",
    "#Recall của 5 = 0\n",
    "#Recall của 6 = 0\n",
    "#Recall của 7 = 0\n",
    "#Recall của 8 = 0\n",
    "#Recall của 9 = 0"
   ]
  },
  {
   "cell_type": "code",
   "execution_count": 230,
   "id": "a4e07ef9",
   "metadata": {},
   "outputs": [
    {
     "name": "stdout",
     "output_type": "stream",
     "text": [
      "F1 score: \n",
      "[62.11286571 47.11820254  6.2639821   2.16216216  0.          0.\n",
      "  0.          0.          0.          0.        ] \n",
      "\n"
     ]
    }
   ],
   "source": [
    "print(\"F1 score: \")\n",
    "print(f1_score(Y_test, Y_predicted, labels=[0,1,2,3,4,5,6,7,8,9], average=None)*100,'\\n')\n",
    "#F1 của 0 = 62\n",
    "#F1 của 1 = 47\n",
    "#F1 của 2 = 6\n",
    "#F1 của 3 = 2\n",
    "#F1 của 4 = 0\n",
    "#F1 của 5 = 0\n",
    "#F1 của 6 = 0\n",
    "#F1 của 7 = 0\n",
    "#F1 của 8 = 0\n",
    "#F1 của 9 = 0"
   ]
  },
  {
   "cell_type": "code",
   "execution_count": 231,
   "id": "29be0d22",
   "metadata": {},
   "outputs": [
    {
     "name": "stdout",
     "output_type": "stream",
     "text": [
      "              precision    recall  f1-score   support\n",
      "\n",
      "           0       0.57      0.68      0.62      3712\n",
      "           1       0.49      0.45      0.47      3201\n",
      "           2       0.17      0.04      0.06       364\n",
      "           3       0.10      0.01      0.02       164\n",
      "           4       0.00      0.00      0.00        25\n",
      "           5       0.00      0.00      0.00        16\n",
      "           6       0.00      0.00      0.00        14\n",
      "           7       0.00      0.00      0.00         2\n",
      "           8       0.00      0.00      0.00         2\n",
      "           9       0.00      0.00      0.00         3\n",
      "\n",
      "    accuracy                           0.53      7503\n",
      "   macro avg       0.13      0.12      0.12      7503\n",
      "weighted avg       0.50      0.53      0.51      7503\n",
      "\n"
     ]
    }
   ],
   "source": [
    "print(classification_report(Y_test, Y_predicted, zero_division=0))"
   ]
  },
  {
   "cell_type": "markdown",
   "id": "6ea8cfd8",
   "metadata": {},
   "source": [
    "# DT Classifier"
   ]
  },
  {
   "cell_type": "code",
   "execution_count": 232,
   "id": "48b24811",
   "metadata": {},
   "outputs": [
    {
     "data": {
      "text/html": [
       "<style>#sk-container-id-14 {color: black;background-color: white;}#sk-container-id-14 pre{padding: 0;}#sk-container-id-14 div.sk-toggleable {background-color: white;}#sk-container-id-14 label.sk-toggleable__label {cursor: pointer;display: block;width: 100%;margin-bottom: 0;padding: 0.3em;box-sizing: border-box;text-align: center;}#sk-container-id-14 label.sk-toggleable__label-arrow:before {content: \"▸\";float: left;margin-right: 0.25em;color: #696969;}#sk-container-id-14 label.sk-toggleable__label-arrow:hover:before {color: black;}#sk-container-id-14 div.sk-estimator:hover label.sk-toggleable__label-arrow:before {color: black;}#sk-container-id-14 div.sk-toggleable__content {max-height: 0;max-width: 0;overflow: hidden;text-align: left;background-color: #f0f8ff;}#sk-container-id-14 div.sk-toggleable__content pre {margin: 0.2em;color: black;border-radius: 0.25em;background-color: #f0f8ff;}#sk-container-id-14 input.sk-toggleable__control:checked~div.sk-toggleable__content {max-height: 200px;max-width: 100%;overflow: auto;}#sk-container-id-14 input.sk-toggleable__control:checked~label.sk-toggleable__label-arrow:before {content: \"▾\";}#sk-container-id-14 div.sk-estimator input.sk-toggleable__control:checked~label.sk-toggleable__label {background-color: #d4ebff;}#sk-container-id-14 div.sk-label input.sk-toggleable__control:checked~label.sk-toggleable__label {background-color: #d4ebff;}#sk-container-id-14 input.sk-hidden--visually {border: 0;clip: rect(1px 1px 1px 1px);clip: rect(1px, 1px, 1px, 1px);height: 1px;margin: -1px;overflow: hidden;padding: 0;position: absolute;width: 1px;}#sk-container-id-14 div.sk-estimator {font-family: monospace;background-color: #f0f8ff;border: 1px dotted black;border-radius: 0.25em;box-sizing: border-box;margin-bottom: 0.5em;}#sk-container-id-14 div.sk-estimator:hover {background-color: #d4ebff;}#sk-container-id-14 div.sk-parallel-item::after {content: \"\";width: 100%;border-bottom: 1px solid gray;flex-grow: 1;}#sk-container-id-14 div.sk-label:hover label.sk-toggleable__label {background-color: #d4ebff;}#sk-container-id-14 div.sk-serial::before {content: \"\";position: absolute;border-left: 1px solid gray;box-sizing: border-box;top: 0;bottom: 0;left: 50%;z-index: 0;}#sk-container-id-14 div.sk-serial {display: flex;flex-direction: column;align-items: center;background-color: white;padding-right: 0.2em;padding-left: 0.2em;position: relative;}#sk-container-id-14 div.sk-item {position: relative;z-index: 1;}#sk-container-id-14 div.sk-parallel {display: flex;align-items: stretch;justify-content: center;background-color: white;position: relative;}#sk-container-id-14 div.sk-item::before, #sk-container-id-14 div.sk-parallel-item::before {content: \"\";position: absolute;border-left: 1px solid gray;box-sizing: border-box;top: 0;bottom: 0;left: 50%;z-index: -1;}#sk-container-id-14 div.sk-parallel-item {display: flex;flex-direction: column;z-index: 1;position: relative;background-color: white;}#sk-container-id-14 div.sk-parallel-item:first-child::after {align-self: flex-end;width: 50%;}#sk-container-id-14 div.sk-parallel-item:last-child::after {align-self: flex-start;width: 50%;}#sk-container-id-14 div.sk-parallel-item:only-child::after {width: 0;}#sk-container-id-14 div.sk-dashed-wrapped {border: 1px dashed gray;margin: 0 0.4em 0.5em 0.4em;box-sizing: border-box;padding-bottom: 0.4em;background-color: white;}#sk-container-id-14 div.sk-label label {font-family: monospace;font-weight: bold;display: inline-block;line-height: 1.2em;}#sk-container-id-14 div.sk-label-container {text-align: center;}#sk-container-id-14 div.sk-container {/* jupyter's `normalize.less` sets `[hidden] { display: none; }` but bootstrap.min.css set `[hidden] { display: none !important; }` so we also need the `!important` here to be able to override the default hidden behavior on the sphinx rendered scikit-learn.org. See: https://github.com/scikit-learn/scikit-learn/issues/21755 */display: inline-block !important;position: relative;}#sk-container-id-14 div.sk-text-repr-fallback {display: none;}</style><div id=\"sk-container-id-14\" class=\"sk-top-container\"><div class=\"sk-text-repr-fallback\"><pre>DecisionTreeClassifier(criterion=&#x27;entropy&#x27;)</pre><b>In a Jupyter environment, please rerun this cell to show the HTML representation or trust the notebook. <br />On GitHub, the HTML representation is unable to render, please try loading this page with nbviewer.org.</b></div><div class=\"sk-container\" hidden><div class=\"sk-item\"><div class=\"sk-estimator sk-toggleable\"><input class=\"sk-toggleable__control sk-hidden--visually\" id=\"sk-estimator-id-14\" type=\"checkbox\" checked><label for=\"sk-estimator-id-14\" class=\"sk-toggleable__label sk-toggleable__label-arrow\">DecisionTreeClassifier</label><div class=\"sk-toggleable__content\"><pre>DecisionTreeClassifier(criterion=&#x27;entropy&#x27;)</pre></div></div></div></div></div>"
      ],
      "text/plain": [
       "DecisionTreeClassifier(criterion='entropy')"
      ]
     },
     "execution_count": 232,
     "metadata": {},
     "output_type": "execute_result"
    }
   ],
   "source": [
    "from sklearn.tree import DecisionTreeClassifier\n",
    "DT_class=DecisionTreeClassifier(criterion='entropy')\n",
    "DT_class.fit(X_train, Y_train)"
   ]
  },
  {
   "cell_type": "code",
   "execution_count": 233,
   "id": "6648eaa0",
   "metadata": {},
   "outputs": [
    {
     "name": "stdout",
     "output_type": "stream",
     "text": [
      "       Y_predicted  Y_test\n",
      "4837             1       3\n",
      "17217            0       1\n",
      "3268             1       1\n",
      "15945            4       1\n",
      "23447            0       0\n",
      "17540            1       0\n",
      "17265            0       0\n",
      "4894             1       1\n",
      "24880            0       1\n",
      "1883             0       0\n"
     ]
    }
   ],
   "source": [
    "Y_predicted=DT_class.predict(X_test)\n",
    "print(pd.DataFrame({\"Y_predicted\":Y_predicted,\"Y_test\":Y_test}).head(10))"
   ]
  },
  {
   "cell_type": "code",
   "execution_count": 234,
   "id": "d1b74d69",
   "metadata": {},
   "outputs": [
    {
     "name": "stdout",
     "output_type": "stream",
     "text": [
      "Confusion Matrix: \n",
      "[[2055 1415  172   42    8   14    4    0    0    2]\n",
      " [1336 1517  226   91   11    5    8    2    1    4]\n",
      " [ 125  180   45    9    2    0    3    0    0    0]\n",
      " [  39   99    9   13    3    0    1    0    0    0]\n",
      " [   3   15    1    5    1    0    0    0    0    0]\n",
      " [   9    4    2    0    0    1    0    0    0    0]\n",
      " [   3    8    2    0    1    0    0    0    0    0]\n",
      " [   0    1    0    1    0    0    0    0    0    0]\n",
      " [   0    1    1    0    0    0    0    0    0    0]\n",
      " [   0    3    0    0    0    0    0    0    0    0]] \n",
      "\n"
     ]
    }
   ],
   "source": [
    "#đánh giá mô hình\n",
    "print(\"Confusion Matrix: \")\n",
    "print(confusion_matrix(Y_test, Y_predicted, labels=[0,1,2,3,4,5,6,7,8,9]),'\\n')"
   ]
  },
  {
   "cell_type": "code",
   "execution_count": 235,
   "id": "20f8354c",
   "metadata": {},
   "outputs": [
    {
     "name": "stdout",
     "output_type": "stream",
     "text": [
      "Accuracy score: \n",
      "48.4073037451686\n"
     ]
    }
   ],
   "source": [
    "print(\"Accuracy score: \")\n",
    "print((accuracy_score(Y_test, Y_predicted)*100))"
   ]
  },
  {
   "cell_type": "code",
   "execution_count": 236,
   "id": "323d4d59",
   "metadata": {},
   "outputs": [
    {
     "name": "stdout",
     "output_type": "stream",
     "text": [
      "Precision score: \n",
      "[57.56302521 46.77767499  9.82532751  8.07453416  3.84615385  5.\n",
      "  0.          0.          0.          0.        ] \n",
      "\n"
     ]
    }
   ],
   "source": [
    "print(\"Precision score: \")\n",
    "print(precision_score(Y_test, Y_predicted, labels=[0,1,2,3,4,5,6,7,8,9], average=None, zero_division=0)*100,'\\n')\n",
    "#Precision của 0 = 57.5\n",
    "#Precision của 1 = 46.7\n",
    "#Precision của 2 = 9.8\n",
    "#Precision của 3 = 8\n",
    "#Precision của 4 = 3.8\n",
    "#Precision của 5 = 5\n",
    "#Precision của 6 = 0\n",
    "#Precision của 7 = 0\n",
    "#Precision của 8 = 0\n",
    "#Precision của 9 = 0"
   ]
  },
  {
   "cell_type": "code",
   "execution_count": 237,
   "id": "8cc6a56a",
   "metadata": {},
   "outputs": [
    {
     "name": "stdout",
     "output_type": "stream",
     "text": [
      "Recall score: \n",
      "[0.55360991 0.4739144  0.12362637 0.07926829 0.04       0.0625\n",
      " 0.         0.         0.         0.        ] \n",
      "\n"
     ]
    }
   ],
   "source": [
    "print(\"Recall score: \")\n",
    "print(recall_score(Y_test, Y_predicted, labels=[0,1,2,3,4,5,6,7,8,9], average=None),'\\n')\n",
    "#Recall của 0 = 0.55\n",
    "#Recall của 1 = 0.47\n",
    "#Recall của 2 = 0.12\n",
    "#Recall của 3 = 0.079\n",
    "#Recall của 4 = 0.04\n",
    "#Recall của 5 = 0.0625\n",
    "#Recall của 6 = 0\n",
    "#Recall của 7 = 0\n",
    "#Recall của 8 = 0\n",
    "#Recall của 9 = 0"
   ]
  },
  {
   "cell_type": "code",
   "execution_count": 238,
   "id": "eee1cf93",
   "metadata": {},
   "outputs": [
    {
     "name": "stdout",
     "output_type": "stream",
     "text": [
      "Recall score: \n",
      "[0.55360991 0.4739144  0.12362637 0.07926829 0.04       0.0625\n",
      " 0.         0.         0.         0.        ] \n",
      "\n"
     ]
    }
   ],
   "source": [
    "print(\"Recall score: \")\n",
    "print(recall_score(Y_test, Y_predicted, labels=[0,1,2,3,4,5,6,7,8,9], average=None),'\\n')\n",
    "#Recall của 0 = 0.55\n",
    "#Recall của 1 = 0.47\n",
    "#Recall của 2 = 0.12\n",
    "#Recall của 3 = 0.079\n",
    "#Recall của 4 = 0.04\n",
    "#Recall của 5 = 0.0625\n",
    "#Recall của 6 = 0\n",
    "#Recall của 7 = 0\n",
    "#Recall của 8 = 0\n",
    "#Recall của 9 = 0"
   ]
  },
  {
   "cell_type": "code",
   "execution_count": 239,
   "id": "20afb055",
   "metadata": {},
   "outputs": [
    {
     "name": "stdout",
     "output_type": "stream",
     "text": [
      "              precision    recall  f1-score   support\n",
      "\n",
      "           0       0.58      0.55      0.56      3712\n",
      "           1       0.47      0.47      0.47      3201\n",
      "           2       0.10      0.12      0.11       364\n",
      "           3       0.08      0.08      0.08       164\n",
      "           4       0.04      0.04      0.04        25\n",
      "           5       0.05      0.06      0.06        16\n",
      "           6       0.00      0.00      0.00        14\n",
      "           7       0.00      0.00      0.00         2\n",
      "           8       0.00      0.00      0.00         2\n",
      "           9       0.00      0.00      0.00         3\n",
      "\n",
      "    accuracy                           0.48      7503\n",
      "   macro avg       0.13      0.13      0.13      7503\n",
      "weighted avg       0.49      0.48      0.49      7503\n",
      "\n"
     ]
    }
   ],
   "source": [
    "print(classification_report(Y_test, Y_predicted, zero_division=0))"
   ]
  },
  {
   "cell_type": "markdown",
   "id": "d63c8061",
   "metadata": {},
   "source": [
    "# DT Naive Bayes (GauslanNB)"
   ]
  },
  {
   "cell_type": "code",
   "execution_count": 241,
   "id": "058f8def",
   "metadata": {},
   "outputs": [
    {
     "data": {
      "text/html": [
       "<style>#sk-container-id-15 {color: black;background-color: white;}#sk-container-id-15 pre{padding: 0;}#sk-container-id-15 div.sk-toggleable {background-color: white;}#sk-container-id-15 label.sk-toggleable__label {cursor: pointer;display: block;width: 100%;margin-bottom: 0;padding: 0.3em;box-sizing: border-box;text-align: center;}#sk-container-id-15 label.sk-toggleable__label-arrow:before {content: \"▸\";float: left;margin-right: 0.25em;color: #696969;}#sk-container-id-15 label.sk-toggleable__label-arrow:hover:before {color: black;}#sk-container-id-15 div.sk-estimator:hover label.sk-toggleable__label-arrow:before {color: black;}#sk-container-id-15 div.sk-toggleable__content {max-height: 0;max-width: 0;overflow: hidden;text-align: left;background-color: #f0f8ff;}#sk-container-id-15 div.sk-toggleable__content pre {margin: 0.2em;color: black;border-radius: 0.25em;background-color: #f0f8ff;}#sk-container-id-15 input.sk-toggleable__control:checked~div.sk-toggleable__content {max-height: 200px;max-width: 100%;overflow: auto;}#sk-container-id-15 input.sk-toggleable__control:checked~label.sk-toggleable__label-arrow:before {content: \"▾\";}#sk-container-id-15 div.sk-estimator input.sk-toggleable__control:checked~label.sk-toggleable__label {background-color: #d4ebff;}#sk-container-id-15 div.sk-label input.sk-toggleable__control:checked~label.sk-toggleable__label {background-color: #d4ebff;}#sk-container-id-15 input.sk-hidden--visually {border: 0;clip: rect(1px 1px 1px 1px);clip: rect(1px, 1px, 1px, 1px);height: 1px;margin: -1px;overflow: hidden;padding: 0;position: absolute;width: 1px;}#sk-container-id-15 div.sk-estimator {font-family: monospace;background-color: #f0f8ff;border: 1px dotted black;border-radius: 0.25em;box-sizing: border-box;margin-bottom: 0.5em;}#sk-container-id-15 div.sk-estimator:hover {background-color: #d4ebff;}#sk-container-id-15 div.sk-parallel-item::after {content: \"\";width: 100%;border-bottom: 1px solid gray;flex-grow: 1;}#sk-container-id-15 div.sk-label:hover label.sk-toggleable__label {background-color: #d4ebff;}#sk-container-id-15 div.sk-serial::before {content: \"\";position: absolute;border-left: 1px solid gray;box-sizing: border-box;top: 0;bottom: 0;left: 50%;z-index: 0;}#sk-container-id-15 div.sk-serial {display: flex;flex-direction: column;align-items: center;background-color: white;padding-right: 0.2em;padding-left: 0.2em;position: relative;}#sk-container-id-15 div.sk-item {position: relative;z-index: 1;}#sk-container-id-15 div.sk-parallel {display: flex;align-items: stretch;justify-content: center;background-color: white;position: relative;}#sk-container-id-15 div.sk-item::before, #sk-container-id-15 div.sk-parallel-item::before {content: \"\";position: absolute;border-left: 1px solid gray;box-sizing: border-box;top: 0;bottom: 0;left: 50%;z-index: -1;}#sk-container-id-15 div.sk-parallel-item {display: flex;flex-direction: column;z-index: 1;position: relative;background-color: white;}#sk-container-id-15 div.sk-parallel-item:first-child::after {align-self: flex-end;width: 50%;}#sk-container-id-15 div.sk-parallel-item:last-child::after {align-self: flex-start;width: 50%;}#sk-container-id-15 div.sk-parallel-item:only-child::after {width: 0;}#sk-container-id-15 div.sk-dashed-wrapped {border: 1px dashed gray;margin: 0 0.4em 0.5em 0.4em;box-sizing: border-box;padding-bottom: 0.4em;background-color: white;}#sk-container-id-15 div.sk-label label {font-family: monospace;font-weight: bold;display: inline-block;line-height: 1.2em;}#sk-container-id-15 div.sk-label-container {text-align: center;}#sk-container-id-15 div.sk-container {/* jupyter's `normalize.less` sets `[hidden] { display: none; }` but bootstrap.min.css set `[hidden] { display: none !important; }` so we also need the `!important` here to be able to override the default hidden behavior on the sphinx rendered scikit-learn.org. See: https://github.com/scikit-learn/scikit-learn/issues/21755 */display: inline-block !important;position: relative;}#sk-container-id-15 div.sk-text-repr-fallback {display: none;}</style><div id=\"sk-container-id-15\" class=\"sk-top-container\"><div class=\"sk-text-repr-fallback\"><pre>GaussianNB()</pre><b>In a Jupyter environment, please rerun this cell to show the HTML representation or trust the notebook. <br />On GitHub, the HTML representation is unable to render, please try loading this page with nbviewer.org.</b></div><div class=\"sk-container\" hidden><div class=\"sk-item\"><div class=\"sk-estimator sk-toggleable\"><input class=\"sk-toggleable__control sk-hidden--visually\" id=\"sk-estimator-id-15\" type=\"checkbox\" checked><label for=\"sk-estimator-id-15\" class=\"sk-toggleable__label sk-toggleable__label-arrow\">GaussianNB</label><div class=\"sk-toggleable__content\"><pre>GaussianNB()</pre></div></div></div></div></div>"
      ],
      "text/plain": [
       "GaussianNB()"
      ]
     },
     "execution_count": 241,
     "metadata": {},
     "output_type": "execute_result"
    }
   ],
   "source": [
    "from sklearn.naive_bayes import GaussianNB\n",
    "GNB_class=GaussianNB()\n",
    "GNB_class.fit(X_train, Y_train)"
   ]
  },
  {
   "cell_type": "code",
   "execution_count": 242,
   "id": "fbf9a291",
   "metadata": {},
   "outputs": [
    {
     "name": "stdout",
     "output_type": "stream",
     "text": [
      "       Y_predicted  Y_test\n",
      "4837             0       3\n",
      "17217            0       1\n",
      "3268             0       1\n",
      "15945            0       1\n",
      "23447            0       0\n",
      "17540            0       0\n",
      "17265            0       0\n",
      "4894             0       1\n",
      "24880            0       1\n",
      "1883             0       0\n"
     ]
    }
   ],
   "source": [
    "Y_predicted=GNB_class.predict(X_test)\n",
    "print(pd.DataFrame({\"Y_predicted\":Y_predicted,\"Y_test\":Y_test}).head(10))"
   ]
  },
  {
   "cell_type": "code",
   "execution_count": 243,
   "id": "c63a4f8c",
   "metadata": {},
   "outputs": [
    {
     "name": "stdout",
     "output_type": "stream",
     "text": [
      "              precision    recall  f1-score   support\n",
      "\n",
      "           0       0.49      1.00      0.66      3712\n",
      "           1       1.00      0.00      0.00      3201\n",
      "           2       0.00      0.00      0.00       364\n",
      "           3       0.00      0.00      0.00       164\n",
      "           4       0.00      0.00      0.00        25\n",
      "           5       0.00      0.00      0.00        16\n",
      "           6       0.00      0.00      0.00        14\n",
      "           7       0.00      0.00      0.00         2\n",
      "           8       0.00      0.00      0.00         2\n",
      "           9       0.00      0.00      0.00         3\n",
      "\n",
      "    accuracy                           0.50      7503\n",
      "   macro avg       0.15      0.10      0.07      7503\n",
      "weighted avg       0.67      0.50      0.33      7503\n",
      "\n"
     ]
    }
   ],
   "source": [
    "print(classification_report(Y_test, Y_predicted, zero_division=0))"
   ]
  }
 ],
 "metadata": {
  "kernelspec": {
   "display_name": "Python 3 (ipykernel)",
   "language": "python",
   "name": "python3"
  },
  "language_info": {
   "codemirror_mode": {
    "name": "ipython",
    "version": 3
   },
   "file_extension": ".py",
   "mimetype": "text/x-python",
   "name": "python",
   "nbconvert_exporter": "python",
   "pygments_lexer": "ipython3",
   "version": "3.10.9"
  }
 },
 "nbformat": 4,
 "nbformat_minor": 5
}
